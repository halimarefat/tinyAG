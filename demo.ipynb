{
 "cells": [
  {
   "cell_type": "code",
   "execution_count": 1,
   "metadata": {},
   "outputs": [],
   "source": [
    "import numpy as np\n",
    "import matplotlib.pyplot as plt\n",
    "from tinyAG.engine import Value\n",
    "from tinyAG.draw_dot import draw_dot\n",
    "from tinyAG.nn import Neuron, Layer, MLP\n",
    "from tinyAG.losses import losses"
   ]
  },
  {
   "cell_type": "code",
   "execution_count": 2,
   "metadata": {},
   "outputs": [],
   "source": [
    "xs = [\n",
    "    [2.0, 3.0, -1.0],\n",
    "    [3.0, -1.0, 0.5],\n",
    "    [0.5, 1.0, 1.0],\n",
    "    [1.0, 1.0, -1.0],\n",
    "]\n",
    "\n",
    "ys = [1.0, -1.0, -1.0, 1.0]"
   ]
  },
  {
   "cell_type": "code",
   "execution_count": 3,
   "metadata": {},
   "outputs": [
    {
     "name": "stdout",
     "output_type": "stream",
     "text": [
      "MLP of [\n",
      " Layer of [tanh Neuron(3), tanh Neuron(3), tanh Neuron(3), tanh Neuron(3)] \n",
      " Layer of [tanh Neuron(4), tanh Neuron(4), tanh Neuron(4), tanh Neuron(4)] \n",
      " Layer of [linear Neuron(4)] \n",
      "]\n"
     ]
    }
   ],
   "source": [
    "model = MLP(3, [4, 4, 1])\n",
    "print(model)"
   ]
  },
  {
   "cell_type": "code",
   "execution_count": 4,
   "metadata": {},
   "outputs": [],
   "source": [
    "def loss(X, y, batch_size=None):\n",
    "    \n",
    "    # inline DataLoader :)\n",
    "    if batch_size is None:\n",
    "        Xb, yb = X, y\n",
    "    else:\n",
    "        ri = np.random.permutation(X.shape[0])[:batch_size]\n",
    "        Xb, yb = X[ri], y[ri]\n",
    "    inputs = [list(map(Value, xrow)) for xrow in Xb]\n",
    "    \n",
    "    # forward the model to get scores\n",
    "    scores = list(map(model, inputs))\n",
    "    \n",
    "    # svm \"max-margin\" loss\n",
    "    losses = sum((scorei - yi)**2 for yi, scorei in zip(yb, scores))\n",
    "    ### [(1 + -yi*scorei).tanh() for yi, scorei in zip(yb, scores)]\n",
    "    data_loss = losses #sum(losses) * (1.0 / len(losses))\n",
    "    # L2 regularization\n",
    "    #alpha = 1e-4\n",
    "    #reg_loss = alpha * sum((p*p for p in model.parameters()))\n",
    "    total_loss = data_loss #+ reg_loss\n",
    "    \n",
    "    # also get accuracy\n",
    "    accuracy = [(yi > 0) == (scorei.data > 0) for yi, scorei in zip(yb, scores)]\n",
    "    return total_loss, sum(accuracy) / len(accuracy)"
   ]
  },
  {
   "cell_type": "code",
   "execution_count": 7,
   "metadata": {},
   "outputs": [
    {
     "ename": "SyntaxError",
     "evalue": "f-string: empty expression not allowed (2079605347.py, line 20)",
     "output_type": "error",
     "traceback": [
      "\u001b[0;36m  Cell \u001b[0;32mIn[7], line 20\u001b[0;36m\u001b[0m\n\u001b[0;31m    print(f\"epoch {epoch} -- loss {tot_loss} -- accuracy {}\")\u001b[0m\n\u001b[0m          ^\u001b[0m\n\u001b[0;31mSyntaxError\u001b[0m\u001b[0;31m:\u001b[0m f-string: empty expression not allowed\n"
     ]
    }
   ],
   "source": [
    "epochs = 1000\n",
    "\n",
    "old_loss = 0.0\n",
    "tot_loss = Value(0.0)\n",
    "alpha = 1.0\n",
    "for epoch in range(epochs):\n",
    "    ypred = list(map(model, xs)) #[model(x) for x in xs]\n",
    "    old_loss = tot_loss.data \n",
    "    tot_loss = losses.MSE(ys, ypred) #loss(xs, ys) #sum((yp - yg)**2 for yp, yg in zip(ypred, ys))\n",
    "\n",
    "    model.zero_grad()\n",
    "    tot_loss.backward()\n",
    "\n",
    "    alpha = (alpha * 1e-1) if (tot_loss.data >= old_loss) else alpha\n",
    "    learning_rate = (1.0 - 9e-1 * epoch / epochs) * alpha\n",
    "    for p in model.parameters():\n",
    "        p.data -= learning_rate * p.grad\n",
    "\n",
    "    if epoch % (epochs/10) == 0:\n",
    "        print(f\"epoch {epoch} -- loss {tot_loss} -- accuracy\")\n"
   ]
  }
 ],
 "metadata": {
  "kernelspec": {
   "display_name": "PyEnv",
   "language": "python",
   "name": "python3"
  },
  "language_info": {
   "codemirror_mode": {
    "name": "ipython",
    "version": 3
   },
   "file_extension": ".py",
   "mimetype": "text/x-python",
   "name": "python",
   "nbconvert_exporter": "python",
   "pygments_lexer": "ipython3",
   "version": "3.8.8"
  },
  "orig_nbformat": 4,
  "vscode": {
   "interpreter": {
    "hash": "4812c351ba6981b787a07bf6d00721568c787e56185c16beadf4bedad09127a6"
   }
  }
 },
 "nbformat": 4,
 "nbformat_minor": 2
}
